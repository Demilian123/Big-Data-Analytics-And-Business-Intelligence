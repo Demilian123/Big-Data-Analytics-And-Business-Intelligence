{
  "nbformat": 4,
  "nbformat_minor": 0,
  "metadata": {
    "colab": {
      "provenance": []
    },
    "kernelspec": {
      "name": "python3",
      "display_name": "Python 3"
    },
    "language_info": {
      "name": "python"
    }
  },
  "cells": [
    {
      "cell_type": "code",
      "execution_count": null,
      "metadata": {
        "colab": {
          "base_uri": "https://localhost:8080/"
        },
        "id": "Iep_PyTf_Cg8",
        "outputId": "b92b7d02-548f-491a-cdb4-d5af0f437bd3"
      },
      "outputs": [
        {
          "output_type": "stream",
          "name": "stdout",
          "text": [
            "[5 4 6 3 2 1]\n"
          ]
        }
      ],
      "source": [
        "#Q1) Reverse the NumPy array: arr = np.array([1, 2, 3, 6, 4, 5])\n",
        "import numpy as np\n",
        "arr = np.array([1,2,3,6,4,5])\n",
        "arrs = np.array(arr[:: -1 ])\n",
        "print(arrs)"
      ]
    },
    {
      "cell_type": "code",
      "source": [
        "#Q3) Find the most frequent value and their indice(s) in the following arrays:\n",
        "#  i. x = np.array([1,2,3,4,5,1,2,1,1,1])\n",
        "\n",
        "import numpy as np\n",
        "\n",
        "x = np.array([1, 2, 3, 4, 5, 1, 2, 1, 1, 1])\n",
        "\n",
        "frequent_value1 = np.bincount(x).argmax()\n",
        "\n",
        "index1 = np.where(x == frequent_value1)[0]\n",
        "\n",
        "print(\"The most frequent value in the array is: \", frequent_value1)\n",
        "\n",
        "print(\"The indices of the most frequent value:\", index1)\n",
        "\n",
        "#  ii. y = np.array([1, 1, 1, 2, 3, 4, 2, 4, 3, 3, ]\n",
        "\n",
        "import numpy as np\n",
        "\n",
        "y = np.array([1, 1, 1, 2, 3, 4, 2, 4, 3, 3])\n",
        "\n",
        "frequent_value2 = np.bincount(y).argmax()\n",
        "\n",
        "index2 = np.where(y == frequent_value2)[0]\n",
        "\n",
        "print(\"The most frequent value in the array is: \", frequent_value2)\n",
        "\n",
        "print(\"The indices of the most frequent value:\", index2)"
      ],
      "metadata": {
        "colab": {
          "base_uri": "https://localhost:8080/"
        },
        "id": "fBl7ahohxTM4",
        "outputId": "cfa7ee82-e8a2-400e-d682-58e00025c846"
      },
      "execution_count": null,
      "outputs": [
        {
          "output_type": "stream",
          "name": "stdout",
          "text": [
            "The most frequent value in the array is:  1\n",
            "The indices of the most frequent value: [0 5 7 8 9]\n",
            "The most frequent value in the array is:  1\n",
            "The indices of the most frequent value: [0 1 2]\n"
          ]
        }
      ]
    },
    {
      "cell_type": "code",
      "source": [
        "#Q4) For the array gfg = np.matrix('[4, 1, 9; 12, 3, 1; 4, 5, 6]'),\n",
        "# find i. Sum of all elements\n",
        "\n",
        "import numpy as np\n",
        "\n",
        "gfg = np.matrix('[4,1,9;12,3,1;4,5,6]')\n",
        "print(gfg)\n",
        "print(np.sum(gfg))\n",
        "\n",
        "# ii. Sum of all elements row-wise\n",
        "print(np.sum(gfg,axis=0))\n",
        "\n",
        "# iii. Sum of all elements column-wise\n",
        "print(np.sum(gfg,axis=1))"
      ],
      "metadata": {
        "colab": {
          "base_uri": "https://localhost:8080/"
        },
        "id": "BkzpwGCeyRCi",
        "outputId": "47f3bd11-bcb6-41bc-c66c-085d9b63f34e"
      },
      "execution_count": null,
      "outputs": [
        {
          "output_type": "stream",
          "name": "stdout",
          "text": [
            "[[ 4  1  9]\n",
            " [12  3  1]\n",
            " [ 4  5  6]]\n",
            "45\n",
            "[[20  9 16]]\n",
            "[[14]\n",
            " [16]\n",
            " [15]]\n"
          ]
        }
      ]
    },
    {
      "cell_type": "code",
      "source": [
        "#Q2) Compare the following numpy arrays: arr1 = np.array([[1, 2], [3, 4]])\n",
        "#  arr2 = np.array([[1, 2], [3, 4]])\n",
        "import numpy as np\n",
        "arr1 = np.array([[1,2],[3,4]])\n",
        "arr2 = np.array([[1,2],[3,4]])\n",
        "print(np.equal(arr1,arr2))\n"
      ],
      "metadata": {
        "colab": {
          "base_uri": "https://localhost:8080/"
        },
        "id": "irFGC7RLwzDK",
        "outputId": "209fb7cb-fca0-460f-d3f6-75e07daceb21"
      },
      "execution_count": null,
      "outputs": [
        {
          "output_type": "stream",
          "name": "stdout",
          "text": [
            "[[ True  True]\n",
            " [ True  True]]\n"
          ]
        }
      ]
    }
  ]
}